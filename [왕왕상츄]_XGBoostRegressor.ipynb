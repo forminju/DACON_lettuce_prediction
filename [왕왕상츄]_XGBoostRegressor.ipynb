{
  "nbformat": 4,
  "nbformat_minor": 0,
  "metadata": {
    "colab": {
      "provenance": [],
      "collapsed_sections": [
        "Vcd_S2EESaGh",
        "mry6vXX-9j6k",
        "FJjuQJJ_SrwK"
      ],
      "toc_visible": true
    },
    "kernelspec": {
      "name": "python3",
      "display_name": "Python 3"
    },
    "language_info": {
      "name": "python"
    }
  },
  "cells": [
    {
      "cell_type": "markdown",
      "source": [
        "상추의 생육 환경 생성 AI 경진대회 왕왕상츄 팀 예측모델 코드입니다.\n",
        "\n",
        "- 누적값 계산, DAT 곱, 각 변수 간 곱으로 파생변수를 생성했으며\n",
        "- XGBoostRegreesor 단일 모델에 gridsearch 를 활용해 파라미터를 튜닝했습니다."
      ],
      "metadata": {
        "id": "RlJU-diSqlLR"
      }
    },
    {
      "cell_type": "markdown",
      "source": [
        "## drive 연동"
      ],
      "metadata": {
        "id": "n5XV6LPlSYEG"
      }
    },
    {
      "cell_type": "code",
      "execution_count": 1,
      "metadata": {
        "colab": {
          "base_uri": "https://localhost:8080/"
        },
        "id": "i-KWhsFP4EYx",
        "outputId": "732fbfc8-3e06-465d-c9c2-c505abe14d9d"
      },
      "outputs": [
        {
          "output_type": "stream",
          "name": "stdout",
          "text": [
            "Mounted at /content/drive\n"
          ]
        }
      ],
      "source": [
        "#drive 와 연동시켜줍니다\n",
        "\n",
        "from google.colab import drive\n",
        "drive.mount('/content/drive')"
      ]
    },
    {
      "cell_type": "markdown",
      "source": [
        "## import"
      ],
      "metadata": {
        "id": "Vcd_S2EESaGh"
      }
    },
    {
      "cell_type": "code",
      "source": [
        "! pip install xgboost==0.90\n",
        "! pip install numpy==1.21.5\n",
        "! pip install pandas==1.3.5\n",
        "! pip install scikit-learn==1.0.2\n",
        "! pip install datetime\n",
        "! pip install tqdm\n",
        "!sudo apt-get install -y fonts-nanum\n",
        "!sudo fc-cache -fv\n",
        "!rm ~/.cache/matplotlib -rf"
      ],
      "metadata": {
        "id": "1rxeACcu553S",
        "colab": {
          "base_uri": "https://localhost:8080/",
          "height": 1000
        },
        "outputId": "b21ee1c5-0139-4a81-aab1-871095e4d130"
      },
      "execution_count": 2,
      "outputs": [
        {
          "output_type": "stream",
          "name": "stdout",
          "text": [
            "Looking in indexes: https://pypi.org/simple, https://us-python.pkg.dev/colab-wheels/public/simple/\n",
            "Requirement already satisfied: xgboost==0.90 in /usr/local/lib/python3.8/dist-packages (0.90)\n",
            "Requirement already satisfied: numpy in /usr/local/lib/python3.8/dist-packages (from xgboost==0.90) (1.21.6)\n",
            "Requirement already satisfied: scipy in /usr/local/lib/python3.8/dist-packages (from xgboost==0.90) (1.7.3)\n",
            "Looking in indexes: https://pypi.org/simple, https://us-python.pkg.dev/colab-wheels/public/simple/\n",
            "Collecting numpy==1.21.5\n",
            "  Downloading numpy-1.21.5-cp38-cp38-manylinux_2_12_x86_64.manylinux2010_x86_64.whl (15.7 MB)\n",
            "\u001b[K     |████████████████████████████████| 15.7 MB 27.1 MB/s \n",
            "\u001b[?25hInstalling collected packages: numpy\n",
            "  Attempting uninstall: numpy\n",
            "    Found existing installation: numpy 1.21.6\n",
            "    Uninstalling numpy-1.21.6:\n",
            "      Successfully uninstalled numpy-1.21.6\n",
            "Successfully installed numpy-1.21.5\n"
          ]
        },
        {
          "output_type": "display_data",
          "data": {
            "application/vnd.colab-display-data+json": {
              "pip_warning": {
                "packages": [
                  "numpy"
                ]
              }
            }
          },
          "metadata": {}
        },
        {
          "output_type": "stream",
          "name": "stdout",
          "text": [
            "Looking in indexes: https://pypi.org/simple, https://us-python.pkg.dev/colab-wheels/public/simple/\n",
            "Requirement already satisfied: pandas==1.3.5 in /usr/local/lib/python3.8/dist-packages (1.3.5)\n",
            "Requirement already satisfied: numpy>=1.17.3 in /usr/local/lib/python3.8/dist-packages (from pandas==1.3.5) (1.21.5)\n",
            "Requirement already satisfied: python-dateutil>=2.7.3 in /usr/local/lib/python3.8/dist-packages (from pandas==1.3.5) (2.8.2)\n",
            "Requirement already satisfied: pytz>=2017.3 in /usr/local/lib/python3.8/dist-packages (from pandas==1.3.5) (2022.6)\n",
            "Requirement already satisfied: six>=1.5 in /usr/local/lib/python3.8/dist-packages (from python-dateutil>=2.7.3->pandas==1.3.5) (1.15.0)\n",
            "Looking in indexes: https://pypi.org/simple, https://us-python.pkg.dev/colab-wheels/public/simple/\n",
            "Requirement already satisfied: scikit-learn==1.0.2 in /usr/local/lib/python3.8/dist-packages (1.0.2)\n",
            "Requirement already satisfied: joblib>=0.11 in /usr/local/lib/python3.8/dist-packages (from scikit-learn==1.0.2) (1.2.0)\n",
            "Requirement already satisfied: threadpoolctl>=2.0.0 in /usr/local/lib/python3.8/dist-packages (from scikit-learn==1.0.2) (3.1.0)\n",
            "Requirement already satisfied: scipy>=1.1.0 in /usr/local/lib/python3.8/dist-packages (from scikit-learn==1.0.2) (1.7.3)\n",
            "Requirement already satisfied: numpy>=1.14.6 in /usr/local/lib/python3.8/dist-packages (from scikit-learn==1.0.2) (1.21.5)\n",
            "Looking in indexes: https://pypi.org/simple, https://us-python.pkg.dev/colab-wheels/public/simple/\n",
            "Collecting datetime\n",
            "  Downloading DateTime-4.8-py2.py3-none-any.whl (52 kB)\n",
            "\u001b[K     |████████████████████████████████| 52 kB 1.0 MB/s \n",
            "\u001b[?25hCollecting zope.interface\n",
            "  Downloading zope.interface-5.5.2-cp38-cp38-manylinux_2_5_x86_64.manylinux1_x86_64.manylinux_2_12_x86_64.manylinux2010_x86_64.whl (261 kB)\n",
            "\u001b[K     |████████████████████████████████| 261 kB 57.9 MB/s \n",
            "\u001b[?25hRequirement already satisfied: pytz in /usr/local/lib/python3.8/dist-packages (from datetime) (2022.6)\n",
            "Requirement already satisfied: setuptools in /usr/local/lib/python3.8/dist-packages (from zope.interface->datetime) (57.4.0)\n",
            "Installing collected packages: zope.interface, datetime\n",
            "Successfully installed datetime-4.8 zope.interface-5.5.2\n",
            "Looking in indexes: https://pypi.org/simple, https://us-python.pkg.dev/colab-wheels/public/simple/\n",
            "Requirement already satisfied: tqdm in /usr/local/lib/python3.8/dist-packages (4.64.1)\n",
            "Reading package lists... Done\n",
            "Building dependency tree       \n",
            "Reading state information... Done\n",
            "The following package was automatically installed and is no longer required:\n",
            "  libnvidia-common-460\n",
            "Use 'sudo apt autoremove' to remove it.\n",
            "The following NEW packages will be installed:\n",
            "  fonts-nanum\n",
            "0 upgraded, 1 newly installed, 0 to remove and 20 not upgraded.\n",
            "Need to get 9,604 kB of archives.\n",
            "After this operation, 29.5 MB of additional disk space will be used.\n",
            "Get:1 http://archive.ubuntu.com/ubuntu bionic/universe amd64 fonts-nanum all 20170925-1 [9,604 kB]\n",
            "Fetched 9,604 kB in 0s (50.3 MB/s)\n",
            "debconf: unable to initialize frontend: Dialog\n",
            "debconf: (No usable dialog-like program is installed, so the dialog based frontend cannot be used. at /usr/share/perl5/Debconf/FrontEnd/Dialog.pm line 76, <> line 1.)\n",
            "debconf: falling back to frontend: Readline\n",
            "debconf: unable to initialize frontend: Readline\n",
            "debconf: (This frontend requires a controlling tty.)\n",
            "debconf: falling back to frontend: Teletype\n",
            "dpkg-preconfigure: unable to re-open stdin: \n",
            "Selecting previously unselected package fonts-nanum.\n",
            "(Reading database ... 124016 files and directories currently installed.)\n",
            "Preparing to unpack .../fonts-nanum_20170925-1_all.deb ...\n",
            "Unpacking fonts-nanum (20170925-1) ...\n",
            "Setting up fonts-nanum (20170925-1) ...\n",
            "Processing triggers for fontconfig (2.12.6-0ubuntu2) ...\n",
            "/usr/share/fonts: caching, new cache contents: 0 fonts, 1 dirs\n",
            "/usr/share/fonts/truetype: caching, new cache contents: 0 fonts, 3 dirs\n",
            "/usr/share/fonts/truetype/humor-sans: caching, new cache contents: 1 fonts, 0 dirs\n",
            "/usr/share/fonts/truetype/liberation: caching, new cache contents: 16 fonts, 0 dirs\n",
            "/usr/share/fonts/truetype/nanum: caching, new cache contents: 10 fonts, 0 dirs\n",
            "/usr/local/share/fonts: caching, new cache contents: 0 fonts, 0 dirs\n",
            "/root/.local/share/fonts: skipping, no such directory\n",
            "/root/.fonts: skipping, no such directory\n",
            "/var/cache/fontconfig: cleaning cache directory\n",
            "/root/.cache/fontconfig: not cleaning non-existent cache directory\n",
            "/root/.fontconfig: not cleaning non-existent cache directory\n",
            "fc-cache: succeeded\n"
          ]
        }
      ]
    },
    {
      "cell_type": "code",
      "source": [
        "import os\n",
        "import pandas as pd\n",
        "import numpy as np\n",
        "from tqdm import tqdm\n",
        "import xgboost as xgb\n",
        "from sklearn.preprocessing import StandardScaler\n",
        "from sklearn.model_selection import cross_validate\n",
        "from datetime import datetime, timedelta\n",
        "import copy\n",
        "import zipfile\n",
        "import glob\n",
        "import matplotlib.pyplot as plt\n",
        "from sklearn.preprocessing import MinMaxScaler\n",
        "from sklearn.model_selection import train_test_split\n",
        "from sklearn.model_selection import cross_validate\n",
        "from sklearn.ensemble import ExtraTreesRegressor\n",
        "from sklearn import metrics\n",
        "import matplotlib.pyplot as plt\n",
        "import seaborn as sns\n"
      ],
      "metadata": {
        "id": "nlEj0PPJ56vE"
      },
      "execution_count": 1,
      "outputs": []
    },
    {
      "cell_type": "markdown",
      "source": [],
      "metadata": {
        "id": "-mBQZfYHqkTL"
      }
    },
    {
      "cell_type": "markdown",
      "source": [
        "#전처리"
      ],
      "metadata": {
        "id": "mlJNuGY5SeBg"
      }
    },
    {
      "cell_type": "markdown",
      "source": [
        "## 1. 환경변수 제한 범위 전처리 함수"
      ],
      "metadata": {
        "id": "mry6vXX-9j6k"
      }
    },
    {
      "cell_type": "code",
      "source": [
        "# 내부온도 전처리 함수\n",
        "def preproc_temper(df):\n",
        "    df['내부온도관측치']=np.where(df['내부온도관측치']<4,4,df['내부온도관측치'])\n",
        "    df['내부온도관측치']=np.where(df['내부온도관측치']>40,40,df['내부온도관측치'])\n",
        "    return df\n",
        "# 내부습도 전처리 함수\n",
        "def preproc_hum(df):\n",
        "    df['내부습도관측치']=np.where(df['내부습도관측치']<0,0,df['내부습도관측치'])\n",
        "    df['내부습도관측치']=np.where(df['내부습도관측치']>100,100,df['내부습도관측치'])\n",
        "    return df\n",
        "# co2관측치 전처리 함수\n",
        "def preproc_co2(df):\n",
        "    df['co2관측치']=np.where(df['co2관측치']<0,0,df['co2관측치'])\n",
        "    df['co2관측치']=np.where(df['co2관측치']>1200,1200,df['co2관측치'])\n",
        "    return df\n",
        "# ec관측치 전처리 함수\n",
        "def preproc_ec(df):\n",
        "    df['ec관측치']=np.where(df['ec관측치']<0,0,df['ec관측치'])\n",
        "    df['ec관측치']=np.where(df['ec관측치']>8,8,df['ec관측치'])\n",
        "    return df\n",
        "# 분무량 전처리 함수\n",
        "def preproc_spray(df):\n",
        "    df['시간당분무량']=np.where(df['시간당분무량']<0,0,df['시간당분무량'])\n",
        "    df['시간당분무량']=np.where(df['시간당분무량']>3000,3000,df['시간당분무량'])\n",
        "    df['일간누적분무량']=np.where(df['일간누적분무량']>72000, 72000, df['일간누적분무량'])\n",
        "    return df\n",
        "\n",
        "# 광량 전처리 함수\n",
        "def preproc_light(df):\n",
        "    df['시간당백색광량']=np.where(df['시간당백색광량']>120000, 120000, df['시간당백색광량'])\n",
        "    df['시간당적색광량']=np.where(df['시간당적색광량']>120000, 120000, df['시간당적색광량'])      \n",
        "    df['시간당청색광량']=np.where(df['시간당청색광량']>120000, 120000, df['시간당청색광량'])    \n",
        "    df['일간누적백색광량']=np.where(df['일간누적백색광량']>2880000, 2880000, df['일간누적백색광량']) \n",
        "    df['일간누적청색광량']=np.where(df['일간누적청색광량']>2880000, 2880000, df['일간누적청색광량']) \n",
        "    df['일간누적적색광량']=np.where(df['일간누적적색광량']>2880000, 2880000, df['일간누적적색광량']) \n",
        "    df['시간당총광량']=np.where(df['시간당총광량']>120000, 120000, df['시간당총광량'])\n",
        "    df['일간누적총광량']=np.where(df['일간누적총광량']>2880000, 2880000, df['일간누적총광량'])    \n",
        "    return df"
      ],
      "metadata": {
        "id": "JOoX-i8X6UiI"
      },
      "execution_count": 2,
      "outputs": []
    },
    {
      "cell_type": "markdown",
      "source": [
        "## 2. 시간별 변수 -> 일별 변수로 전처리\n",
        "- 내부온도관측치 : median\n",
        "- 내부습도관측치: median\n",
        "- co2관측치 : median\n",
        "- ec관측치 : median\n",
        "- 시간당분무량 : median\n",
        "- 일간누적분무량 : max\n",
        "- 시간당백색광량 : median\n",
        "- 일간누적백색광량 : max \n",
        "- 시간당적색광량 : median\n",
        "- 일간누적적색광량 : max\n",
        "- 시간당청색광량 : median\n",
        "- 일간누적청색광량 : max\n",
        "- 시간당총광량 : median\n",
        "- 일간누적총광량 : max\n"
      ],
      "metadata": {
        "id": "FJjuQJJ_SrwK"
      }
    },
    {
      "cell_type": "code",
      "source": [
        "def f(x):\n",
        "  d = {}\n",
        "  d['내부온도관측치'] = x['내부온도관측치'].median()\n",
        "  d['내부습도관측치'] = x['내부습도관측치'].median()\n",
        "  d['co2관측치'] = x['co2관측치'].median()\n",
        "  d['ec관측치'] = x['ec관측치'].median()\n",
        "  d['시간당분무량'] = x['시간당분무량'].median()\n",
        "  d['일간누적분무량'] = x['일간누적분무량'].max()\n",
        "  d['시간당백색광량'] = x['시간당백색광량'].median()\n",
        "  d['일간누적백색광량'] = x['일간누적백색광량'].max()\n",
        "  d['시간당적색광량'] = x['시간당적색광량'].median()\n",
        "  d['일간누적적색광량'] = x['일간누적적색광량'].max()\n",
        "  d['시간당청색광량'] = x['시간당청색광량'].median()\n",
        "  d['일간누적청색광량'] = x['일간누적청색광량'].max()\n",
        "  d['시간당총광량'] = x['시간당총광량'].median()\n",
        "  d['일간누적총광량'] = x['일간누적총광량'].max()\n",
        "  d['실내 일교차'] = x['실내 일교차'].median()\n",
        "  \n",
        "\n",
        "  return pd.Series(d, index =['내부온도관측치', '내부습도관측치', 'co2관측치',\n",
        "       'ec관측치', '시간당분무량', '일간누적분무량', '시간당백색광량', '일간누적백색광량', '시간당적색광량',\n",
        "       '일간누적적색광량', '시간당청색광량', '일간누적청색광량', '시간당총광량', '일간누적총광량','실내 일교차'])"
      ],
      "metadata": {
        "id": "YCxYp2O16WYZ"
      },
      "execution_count": 3,
      "outputs": []
    },
    {
      "cell_type": "markdown",
      "source": [
        "## 3. 파생변수 생성 함수\n",
        "- 습도_온도\n",
        "- 습도_온도_CO2\n",
        "- 비료 : EC관측치 X 일간누적분무량\n",
        "- 적산온도\n",
        "- 습도_누적\n",
        "- co2_누적\n",
        "- ec_누적\n",
        "- 광량_누적\n",
        "- 비료_누적\n",
        "- co2_ec\n",
        "- 총누적백색광량\n",
        "- 총누적적색광량\n",
        "- 총누적청색광량\n",
        "- 총누적총광량\n",
        "- ec_시간당분무량\n",
        "- ec_일간누적분무량\n",
        "- ec_분무량_누적\n"
      ],
      "metadata": {
        "id": "m9ISGauFUJO8"
      }
    },
    {
      "cell_type": "code",
      "source": [
        "def new_col(particular_case): # 변수 전처리 함수\n",
        "  group_df = particular_case.groupby('DAT').apply(f) # 날짜에 대하여 groupby 한 함수 생성\n",
        "  \n",
        "  new_group_df = group_df  # 날짜에 대하여 groupby 된 groupbydf 에 대하여 평균값으로 치환해 데이터프레임 생성\n",
        "  # 파생변수\n",
        "  new_group_df['습도_온도'] = new_group_df['내부온도관측치'] * new_group_df['내부습도관측치'] # 습도_온도 변수\n",
        "  new_group_df['습도_온도_CO2'] = new_group_df['습도_온도'] * new_group_df['co2관측치'] # 습도_온도_co2\n",
        "  new_group_df['비료'] = new_group_df['ec관측치']*new_group_df['일간누적분무량'] # 비료\n",
        "  med=new_group_df['내부온도관측치'].median()\n",
        "  temp=np.where(new_group_df['내부온도관측치']<med,0,new_group_df['내부온도관측치'])\n",
        "  new_group_df['적산온도']=temp.cumsum()\n",
        "  new_group_df['습도_누적'] = new_group_df['내부습도관측치'].cumsum()\n",
        "  new_group_df['co2_누적'] = new_group_df['co2관측치'].cumsum()\n",
        "  new_group_df['ec_누적'] = new_group_df['ec관측치'].cumsum()\n",
        "  new_group_df['광량_누적'] = new_group_df['일간누적총광량'].cumsum()\n",
        "  new_group_df['co2_ec'] = new_group_df['co2관측치']*new_group_df['ec관측치']\n",
        "  new_group_df['비료_누적'] = new_group_df['비료'].cumsum()\n",
        "  new_group_df['총누적백색광량'] = new_group_df['일간누적백색광량'].cumsum()\n",
        "  new_group_df['총누적적색광량'] = new_group_df['일간누적적색광량'].cumsum()\n",
        "  new_group_df['총누적청색광량'] = new_group_df['일간누적청색광량'].cumsum()\n",
        "  new_group_df['총누적총광량'] = new_group_df['일간누적총광량'].cumsum()\n",
        "  new_group_df['ec_시간당분무량'] = new_group_df['ec관측치']*new_group_df['시간당분무량']\n",
        "  new_group_df['ec_일간누적분무량'] = new_group_df['ec관측치']*new_group_df['일간누적분무량']\n",
        "  new_group_df['ec_분무량_누적']= new_group_df['ec_시간당분무량'].cumsum()\n",
        "  new_group_df = preproc_temper(new_group_df)\n",
        "  new_group_df = preproc_hum(new_group_df)\n",
        "  new_group_df = preproc_co2(new_group_df)\n",
        "  new_group_df = preproc_ec(new_group_df)\n",
        "  new_group_df = preproc_spray(new_group_df)\n",
        "  new_group_df = preproc_light(new_group_df)\n",
        "  new_group_df.drop(['시간당분무량', '시간당백색광량', '시간당적색광량', '시간당청색광량', '습도_온도'], axis=1, inplace=True)\n",
        "\n",
        "\n",
        "\n",
        "  return new_group_df\n",
        "  \n",
        "  \n",
        "def tem_def(particular_case):\n",
        "  temp = particular_case\n",
        "  temp['실내 일교차'] = 0\n",
        "  tem_def = temp.groupby('DAT')['내부온도관측치'].max() - temp.groupby('DAT')['내부온도관측치'].min()\n",
        "  for i in range(28):\n",
        "    temp['실내 일교차'].loc[24*i:24*(i+1)] = tem_def.loc[i]\n",
        "\n",
        "  return temp  "
      ],
      "metadata": {
        "id": "rWp641sN6Yp9"
      },
      "execution_count": 4,
      "outputs": []
    },
    {
      "cell_type": "markdown",
      "source": [
        "## 4. train셋 생성하기"
      ],
      "metadata": {
        "id": "9UOieIMc8box"
      }
    },
    {
      "cell_type": "markdown",
      "source": [
        "### 1- 29 case 의 train 데이터 리스트로 *불러오기*"
      ],
      "metadata": {
        "id": "yYu-hIpi9yyk"
      }
    },
    {
      "cell_type": "code",
      "source": [
        "train_list = []\n",
        "col_list = []\n",
        "\n",
        "for case in tqdm(range(1,29)):\n",
        "  if case <10 :\n",
        "    case = '0' +str(case)  \n",
        "\n",
        "  df_case = pd.read_csv(f'/content/drive/MyDrive/2022_상추재배/train_input/CASE_{case}.csv')\n",
        "  df_case = tem_def(df_case) # 실내 일교차 열 추가 \n",
        "  group = new_col(df_case) # change_col 함수 적용\n",
        "\n",
        "  df_target = pd.read_csv(f'/content/drive/MyDrive/2022_상추재배/train_target/CASE_{case}.csv')\n",
        "  \n",
        "  group = group.reset_index()\n",
        "  group = group.sort_values(by='DAT')\n",
        "\n",
        "  if case =='01':\n",
        "    col_list = group.columns \n",
        "  else:\n",
        "    group.columns = col_list\n",
        "\n",
        "  group['target'] = list(df_target['predicted_weight_g'])    \n",
        "\n",
        "  train_list.append(group)"
      ],
      "metadata": {
        "colab": {
          "base_uri": "https://localhost:8080/"
        },
        "id": "lWefqygk6bYu",
        "outputId": "6da15a2f-c0ed-4324-92c1-a94c6ce6311f"
      },
      "execution_count": 5,
      "outputs": [
        {
          "output_type": "stream",
          "name": "stderr",
          "text": [
            "\r  0%|          | 0/28 [00:00<?, ?it/s]/usr/local/lib/python3.8/dist-packages/pandas/core/indexing.py:1732: SettingWithCopyWarning: \n",
            "A value is trying to be set on a copy of a slice from a DataFrame\n",
            "\n",
            "See the caveats in the documentation: https://pandas.pydata.org/pandas-docs/stable/user_guide/indexing.html#returning-a-view-versus-a-copy\n",
            "  self._setitem_single_block(indexer, value, name)\n",
            "  4%|▎         | 1/28 [00:01<00:36,  1.36s/it]/usr/local/lib/python3.8/dist-packages/pandas/core/indexing.py:1732: SettingWithCopyWarning: \n",
            "A value is trying to be set on a copy of a slice from a DataFrame\n",
            "\n",
            "See the caveats in the documentation: https://pandas.pydata.org/pandas-docs/stable/user_guide/indexing.html#returning-a-view-versus-a-copy\n",
            "  self._setitem_single_block(indexer, value, name)\n",
            "  7%|▋         | 2/28 [00:02<00:24,  1.07it/s]/usr/local/lib/python3.8/dist-packages/pandas/core/indexing.py:1732: SettingWithCopyWarning: \n",
            "A value is trying to be set on a copy of a slice from a DataFrame\n",
            "\n",
            "See the caveats in the documentation: https://pandas.pydata.org/pandas-docs/stable/user_guide/indexing.html#returning-a-view-versus-a-copy\n",
            "  self._setitem_single_block(indexer, value, name)\n",
            " 11%|█         | 3/28 [00:03<00:24,  1.02it/s]/usr/local/lib/python3.8/dist-packages/pandas/core/indexing.py:1732: SettingWithCopyWarning: \n",
            "A value is trying to be set on a copy of a slice from a DataFrame\n",
            "\n",
            "See the caveats in the documentation: https://pandas.pydata.org/pandas-docs/stable/user_guide/indexing.html#returning-a-view-versus-a-copy\n",
            "  self._setitem_single_block(indexer, value, name)\n",
            " 14%|█▍        | 4/28 [00:03<00:23,  1.04it/s]/usr/local/lib/python3.8/dist-packages/pandas/core/indexing.py:1732: SettingWithCopyWarning: \n",
            "A value is trying to be set on a copy of a slice from a DataFrame\n",
            "\n",
            "See the caveats in the documentation: https://pandas.pydata.org/pandas-docs/stable/user_guide/indexing.html#returning-a-view-versus-a-copy\n",
            "  self._setitem_single_block(indexer, value, name)\n",
            " 18%|█▊        | 5/28 [00:04<00:22,  1.02it/s]/usr/local/lib/python3.8/dist-packages/pandas/core/indexing.py:1732: SettingWithCopyWarning: \n",
            "A value is trying to be set on a copy of a slice from a DataFrame\n",
            "\n",
            "See the caveats in the documentation: https://pandas.pydata.org/pandas-docs/stable/user_guide/indexing.html#returning-a-view-versus-a-copy\n",
            "  self._setitem_single_block(indexer, value, name)\n",
            " 21%|██▏       | 6/28 [00:06<00:22,  1.01s/it]/usr/local/lib/python3.8/dist-packages/pandas/core/indexing.py:1732: SettingWithCopyWarning: \n",
            "A value is trying to be set on a copy of a slice from a DataFrame\n",
            "\n",
            "See the caveats in the documentation: https://pandas.pydata.org/pandas-docs/stable/user_guide/indexing.html#returning-a-view-versus-a-copy\n",
            "  self._setitem_single_block(indexer, value, name)\n",
            " 25%|██▌       | 7/28 [00:06<00:20,  1.02it/s]/usr/local/lib/python3.8/dist-packages/pandas/core/indexing.py:1732: SettingWithCopyWarning: \n",
            "A value is trying to be set on a copy of a slice from a DataFrame\n",
            "\n",
            "See the caveats in the documentation: https://pandas.pydata.org/pandas-docs/stable/user_guide/indexing.html#returning-a-view-versus-a-copy\n",
            "  self._setitem_single_block(indexer, value, name)\n",
            " 29%|██▊       | 8/28 [00:07<00:19,  1.04it/s]/usr/local/lib/python3.8/dist-packages/pandas/core/indexing.py:1732: SettingWithCopyWarning: \n",
            "A value is trying to be set on a copy of a slice from a DataFrame\n",
            "\n",
            "See the caveats in the documentation: https://pandas.pydata.org/pandas-docs/stable/user_guide/indexing.html#returning-a-view-versus-a-copy\n",
            "  self._setitem_single_block(indexer, value, name)\n",
            " 32%|███▏      | 9/28 [00:08<00:17,  1.11it/s]/usr/local/lib/python3.8/dist-packages/pandas/core/indexing.py:1732: SettingWithCopyWarning: \n",
            "A value is trying to be set on a copy of a slice from a DataFrame\n",
            "\n",
            "See the caveats in the documentation: https://pandas.pydata.org/pandas-docs/stable/user_guide/indexing.html#returning-a-view-versus-a-copy\n",
            "  self._setitem_single_block(indexer, value, name)\n",
            " 36%|███▌      | 10/28 [00:09<00:17,  1.01it/s]/usr/local/lib/python3.8/dist-packages/pandas/core/indexing.py:1732: SettingWithCopyWarning: \n",
            "A value is trying to be set on a copy of a slice from a DataFrame\n",
            "\n",
            "See the caveats in the documentation: https://pandas.pydata.org/pandas-docs/stable/user_guide/indexing.html#returning-a-view-versus-a-copy\n",
            "  self._setitem_single_block(indexer, value, name)\n",
            " 39%|███▉      | 11/28 [00:10<00:16,  1.02it/s]/usr/local/lib/python3.8/dist-packages/pandas/core/indexing.py:1732: SettingWithCopyWarning: \n",
            "A value is trying to be set on a copy of a slice from a DataFrame\n",
            "\n",
            "See the caveats in the documentation: https://pandas.pydata.org/pandas-docs/stable/user_guide/indexing.html#returning-a-view-versus-a-copy\n",
            "  self._setitem_single_block(indexer, value, name)\n",
            " 43%|████▎     | 12/28 [00:12<00:20,  1.30s/it]/usr/local/lib/python3.8/dist-packages/pandas/core/indexing.py:1732: SettingWithCopyWarning: \n",
            "A value is trying to be set on a copy of a slice from a DataFrame\n",
            "\n",
            "See the caveats in the documentation: https://pandas.pydata.org/pandas-docs/stable/user_guide/indexing.html#returning-a-view-versus-a-copy\n",
            "  self._setitem_single_block(indexer, value, name)\n",
            " 46%|████▋     | 13/28 [00:13<00:17,  1.17s/it]/usr/local/lib/python3.8/dist-packages/pandas/core/indexing.py:1732: SettingWithCopyWarning: \n",
            "A value is trying to be set on a copy of a slice from a DataFrame\n",
            "\n",
            "See the caveats in the documentation: https://pandas.pydata.org/pandas-docs/stable/user_guide/indexing.html#returning-a-view-versus-a-copy\n",
            "  self._setitem_single_block(indexer, value, name)\n",
            " 50%|█████     | 14/28 [00:14<00:14,  1.07s/it]/usr/local/lib/python3.8/dist-packages/pandas/core/indexing.py:1732: SettingWithCopyWarning: \n",
            "A value is trying to be set on a copy of a slice from a DataFrame\n",
            "\n",
            "See the caveats in the documentation: https://pandas.pydata.org/pandas-docs/stable/user_guide/indexing.html#returning-a-view-versus-a-copy\n",
            "  self._setitem_single_block(indexer, value, name)\n",
            " 54%|█████▎    | 15/28 [00:15<00:13,  1.03s/it]/usr/local/lib/python3.8/dist-packages/pandas/core/indexing.py:1732: SettingWithCopyWarning: \n",
            "A value is trying to be set on a copy of a slice from a DataFrame\n",
            "\n",
            "See the caveats in the documentation: https://pandas.pydata.org/pandas-docs/stable/user_guide/indexing.html#returning-a-view-versus-a-copy\n",
            "  self._setitem_single_block(indexer, value, name)\n",
            " 57%|█████▋    | 16/28 [00:16<00:11,  1.08it/s]/usr/local/lib/python3.8/dist-packages/pandas/core/indexing.py:1732: SettingWithCopyWarning: \n",
            "A value is trying to be set on a copy of a slice from a DataFrame\n",
            "\n",
            "See the caveats in the documentation: https://pandas.pydata.org/pandas-docs/stable/user_guide/indexing.html#returning-a-view-versus-a-copy\n",
            "  self._setitem_single_block(indexer, value, name)\n",
            " 61%|██████    | 17/28 [00:16<00:09,  1.21it/s]/usr/local/lib/python3.8/dist-packages/pandas/core/indexing.py:1732: SettingWithCopyWarning: \n",
            "A value is trying to be set on a copy of a slice from a DataFrame\n",
            "\n",
            "See the caveats in the documentation: https://pandas.pydata.org/pandas-docs/stable/user_guide/indexing.html#returning-a-view-versus-a-copy\n",
            "  self._setitem_single_block(indexer, value, name)\n",
            " 64%|██████▍   | 18/28 [00:17<00:08,  1.23it/s]/usr/local/lib/python3.8/dist-packages/pandas/core/indexing.py:1732: SettingWithCopyWarning: \n",
            "A value is trying to be set on a copy of a slice from a DataFrame\n",
            "\n",
            "See the caveats in the documentation: https://pandas.pydata.org/pandas-docs/stable/user_guide/indexing.html#returning-a-view-versus-a-copy\n",
            "  self._setitem_single_block(indexer, value, name)\n",
            " 68%|██████▊   | 19/28 [00:18<00:07,  1.21it/s]/usr/local/lib/python3.8/dist-packages/pandas/core/indexing.py:1732: SettingWithCopyWarning: \n",
            "A value is trying to be set on a copy of a slice from a DataFrame\n",
            "\n",
            "See the caveats in the documentation: https://pandas.pydata.org/pandas-docs/stable/user_guide/indexing.html#returning-a-view-versus-a-copy\n",
            "  self._setitem_single_block(indexer, value, name)\n",
            " 71%|███████▏  | 20/28 [00:19<00:06,  1.27it/s]/usr/local/lib/python3.8/dist-packages/pandas/core/indexing.py:1732: SettingWithCopyWarning: \n",
            "A value is trying to be set on a copy of a slice from a DataFrame\n",
            "\n",
            "See the caveats in the documentation: https://pandas.pydata.org/pandas-docs/stable/user_guide/indexing.html#returning-a-view-versus-a-copy\n",
            "  self._setitem_single_block(indexer, value, name)\n",
            " 75%|███████▌  | 21/28 [00:19<00:05,  1.35it/s]/usr/local/lib/python3.8/dist-packages/pandas/core/indexing.py:1732: SettingWithCopyWarning: \n",
            "A value is trying to be set on a copy of a slice from a DataFrame\n",
            "\n",
            "See the caveats in the documentation: https://pandas.pydata.org/pandas-docs/stable/user_guide/indexing.html#returning-a-view-versus-a-copy\n",
            "  self._setitem_single_block(indexer, value, name)\n",
            " 79%|███████▊  | 22/28 [00:20<00:04,  1.37it/s]/usr/local/lib/python3.8/dist-packages/pandas/core/indexing.py:1732: SettingWithCopyWarning: \n",
            "A value is trying to be set on a copy of a slice from a DataFrame\n",
            "\n",
            "See the caveats in the documentation: https://pandas.pydata.org/pandas-docs/stable/user_guide/indexing.html#returning-a-view-versus-a-copy\n",
            "  self._setitem_single_block(indexer, value, name)\n",
            " 82%|████████▏ | 23/28 [00:21<00:03,  1.46it/s]/usr/local/lib/python3.8/dist-packages/pandas/core/indexing.py:1732: SettingWithCopyWarning: \n",
            "A value is trying to be set on a copy of a slice from a DataFrame\n",
            "\n",
            "See the caveats in the documentation: https://pandas.pydata.org/pandas-docs/stable/user_guide/indexing.html#returning-a-view-versus-a-copy\n",
            "  self._setitem_single_block(indexer, value, name)\n",
            " 86%|████████▌ | 24/28 [00:21<00:02,  1.51it/s]/usr/local/lib/python3.8/dist-packages/pandas/core/indexing.py:1732: SettingWithCopyWarning: \n",
            "A value is trying to be set on a copy of a slice from a DataFrame\n",
            "\n",
            "See the caveats in the documentation: https://pandas.pydata.org/pandas-docs/stable/user_guide/indexing.html#returning-a-view-versus-a-copy\n",
            "  self._setitem_single_block(indexer, value, name)\n",
            " 89%|████████▉ | 25/28 [00:22<00:02,  1.50it/s]/usr/local/lib/python3.8/dist-packages/pandas/core/indexing.py:1732: SettingWithCopyWarning: \n",
            "A value is trying to be set on a copy of a slice from a DataFrame\n",
            "\n",
            "See the caveats in the documentation: https://pandas.pydata.org/pandas-docs/stable/user_guide/indexing.html#returning-a-view-versus-a-copy\n",
            "  self._setitem_single_block(indexer, value, name)\n",
            " 93%|█████████▎| 26/28 [00:22<00:01,  1.61it/s]/usr/local/lib/python3.8/dist-packages/pandas/core/indexing.py:1732: SettingWithCopyWarning: \n",
            "A value is trying to be set on a copy of a slice from a DataFrame\n",
            "\n",
            "See the caveats in the documentation: https://pandas.pydata.org/pandas-docs/stable/user_guide/indexing.html#returning-a-view-versus-a-copy\n",
            "  self._setitem_single_block(indexer, value, name)\n",
            " 96%|█████████▋| 27/28 [00:23<00:00,  1.50it/s]/usr/local/lib/python3.8/dist-packages/pandas/core/indexing.py:1732: SettingWithCopyWarning: \n",
            "A value is trying to be set on a copy of a slice from a DataFrame\n",
            "\n",
            "See the caveats in the documentation: https://pandas.pydata.org/pandas-docs/stable/user_guide/indexing.html#returning-a-view-versus-a-copy\n",
            "  self._setitem_single_block(indexer, value, name)\n",
            "100%|██████████| 28/28 [00:24<00:00,  1.16it/s]\n"
          ]
        }
      ]
    },
    {
      "cell_type": "markdown",
      "source": [
        "### 리스트 형태의 train 데이터 -> 데이터 프레임으로 변환"
      ],
      "metadata": {
        "id": "1_YK8ybR8n9j"
      }
    },
    {
      "cell_type": "code",
      "source": [
        "def get_data(data_list):\n",
        "  copy_list = copy.deepcopy(data_list) #원본과 영향 받지 않기 위해 deepcopy 해준다\n",
        "  new_data = \"\"\n",
        "  for i in range(len(copy_list)):\n",
        "    if i ==0:\n",
        "      new_data = copy_list[i] # data_list 초기화\n",
        "    else:\n",
        "      new_data = pd.concat([new_data, copy_list[i]])  # 0 -> 1 -> 2 하나씩 붙여준다\n",
        "\n",
        "  return new_data  "
      ],
      "metadata": {
        "id": "H5SPDY4s6cqR"
      },
      "execution_count": 8,
      "outputs": []
    },
    {
      "cell_type": "code",
      "source": [
        "train = get_data(train_list) # train_list 에 대하여 하나의 데이터프레임으로 묶어준다"
      ],
      "metadata": {
        "id": "KYwlCilo6e0e"
      },
      "execution_count": 9,
      "outputs": []
    },
    {
      "cell_type": "code",
      "source": [
        "train"
      ],
      "metadata": {
        "colab": {
          "base_uri": "https://localhost:8080/",
          "height": 522
        },
        "id": "EK4pWVxgyw6_",
        "outputId": "5d06a2d5-0149-498d-ee7a-a95bf6ed42c6"
      },
      "execution_count": 10,
      "outputs": [
        {
          "output_type": "execute_result",
          "data": {
            "text/plain": [
              "    DAT    내부온도관측치    내부습도관측치      co2관측치     ec관측치   일간누적분무량     일간누적백색광량  \\\n",
              "0     0  27.119167  75.737500  531.675000  1.391470   3961.27  255677.8594   \n",
              "1     1  27.895000  75.931667  518.283333  1.383575   3980.56  256324.5263   \n",
              "2     2  26.640000  75.680833  537.283333  1.393320   4093.70  255724.2709   \n",
              "3     3  26.335833  75.645000  804.716667  1.401997   3980.56  256324.5263   \n",
              "4     4  26.752500  76.239166  541.016667  1.403245   3935.55  255829.4703   \n",
              "..  ...        ...        ...         ...       ...       ...          ...   \n",
              "23   23  26.881667  58.576667  459.025000  1.173069  27895.87   84543.1884   \n",
              "24   24  24.530000  59.615833  446.708333  1.190556   3292.69  146626.3049   \n",
              "25   25  24.466667  60.382500  455.916667  1.191734   2995.68  146617.0226   \n",
              "26   26  25.591667  60.102500  429.241667  1.172986   2620.28  146632.4931   \n",
              "27   27  28.517119  59.338333  406.608333  1.154674   2669.12  146722.2220   \n",
              "\n",
              "      일간누적적색광량    일간누적청색광량       시간당총광량  ...       co2_ec          비료_누적  \\\n",
              "0   13698.4344      0.0000  19231.52200  ...   739.809554    5511.986444   \n",
              "1   13708.3632      0.0000  19231.52200  ...   717.083960   11019.390490   \n",
              "2   13675.2672      0.0000  19068.54300  ...   748.607594   16723.224419   \n",
              "3   13708.3632      0.0000  19231.52200  ...  1128.210641   22303.959022   \n",
              "4   13681.8864      0.0000  19231.52200  ...   759.178666   27826.497947   \n",
              "..         ...         ...          ...  ...          ...            ...   \n",
              "23  12856.1412   6038.8575   3669.35270  ...   538.468087  377879.041229   \n",
              "24  22339.8000  10503.3825   5786.99725  ...   531.831120  381799.171837   \n",
              "25  22319.9424  10495.5500   5886.54195  ...   543.331295  385369.224906   \n",
              "26  22266.9888  10473.6190   5782.32210  ...   503.494444  388442.776533   \n",
              "27  22253.7504  10462.6535   5828.88550  ...   469.499896  391524.738853   \n",
              "\n",
              "         총누적백색광량      총누적적색광량     총누적청색광량        총누적총광량    ec_시간당분무량  \\\n",
              "0   2.556779e+05   13698.4344      0.0000  2.693763e+05   337.229594   \n",
              "1   5.120024e+05   27406.7976      0.0000  5.394092e+05   339.764559   \n",
              "2   7.677267e+05   41082.0648      0.0000  8.088087e+05   342.157583   \n",
              "3   1.024051e+06   54790.4280      0.0000  1.078842e+06   344.288491   \n",
              "4   1.279881e+06   68472.3144      0.0000  1.348353e+06   340.083323   \n",
              "..           ...          ...         ...           ...          ...   \n",
              "23  4.307065e+06  113155.2240  53190.5075  4.473410e+06  1764.448568   \n",
              "24  4.453691e+06  135495.0240  63693.8900  4.652880e+06   150.010009   \n",
              "25  4.600308e+06  157814.9664  74189.4400  4.832312e+06   150.158457   \n",
              "26  4.746940e+06  180081.9552  84663.0590  5.011685e+06   147.796230   \n",
              "27  4.893663e+06  202335.7056  95125.7125  5.191124e+06   141.776594   \n",
              "\n",
              "      ec_일간누적분무량     ec_분무량_누적     target  \n",
              "0    5511.986444    337.229594   0.167719  \n",
              "1    5507.404046    676.994153   0.181787  \n",
              "2    5703.833928   1019.151736   0.265921  \n",
              "3    5580.734603   1363.440227   0.423650  \n",
              "4    5522.538925   1703.523550   0.475272  \n",
              "..           ...           ...        ...  \n",
              "23  32723.785765  19482.110608  64.875499  \n",
              "24   3920.130607  19632.120617  74.002614  \n",
              "25   3570.053070  19782.279074  76.342275  \n",
              "26   3073.551626  19930.075304  82.621245  \n",
              "27   3081.962320  20071.851898  86.591508  \n",
              "\n",
              "[784 rows x 29 columns]"
            ],
            "text/html": [
              "\n",
              "  <div id=\"df-d57d81a8-d15d-4b0d-8081-93fb14cd75f7\">\n",
              "    <div class=\"colab-df-container\">\n",
              "      <div>\n",
              "<style scoped>\n",
              "    .dataframe tbody tr th:only-of-type {\n",
              "        vertical-align: middle;\n",
              "    }\n",
              "\n",
              "    .dataframe tbody tr th {\n",
              "        vertical-align: top;\n",
              "    }\n",
              "\n",
              "    .dataframe thead th {\n",
              "        text-align: right;\n",
              "    }\n",
              "</style>\n",
              "<table border=\"1\" class=\"dataframe\">\n",
              "  <thead>\n",
              "    <tr style=\"text-align: right;\">\n",
              "      <th></th>\n",
              "      <th>DAT</th>\n",
              "      <th>내부온도관측치</th>\n",
              "      <th>내부습도관측치</th>\n",
              "      <th>co2관측치</th>\n",
              "      <th>ec관측치</th>\n",
              "      <th>일간누적분무량</th>\n",
              "      <th>일간누적백색광량</th>\n",
              "      <th>일간누적적색광량</th>\n",
              "      <th>일간누적청색광량</th>\n",
              "      <th>시간당총광량</th>\n",
              "      <th>...</th>\n",
              "      <th>co2_ec</th>\n",
              "      <th>비료_누적</th>\n",
              "      <th>총누적백색광량</th>\n",
              "      <th>총누적적색광량</th>\n",
              "      <th>총누적청색광량</th>\n",
              "      <th>총누적총광량</th>\n",
              "      <th>ec_시간당분무량</th>\n",
              "      <th>ec_일간누적분무량</th>\n",
              "      <th>ec_분무량_누적</th>\n",
              "      <th>target</th>\n",
              "    </tr>\n",
              "  </thead>\n",
              "  <tbody>\n",
              "    <tr>\n",
              "      <th>0</th>\n",
              "      <td>0</td>\n",
              "      <td>27.119167</td>\n",
              "      <td>75.737500</td>\n",
              "      <td>531.675000</td>\n",
              "      <td>1.391470</td>\n",
              "      <td>3961.27</td>\n",
              "      <td>255677.8594</td>\n",
              "      <td>13698.4344</td>\n",
              "      <td>0.0000</td>\n",
              "      <td>19231.52200</td>\n",
              "      <td>...</td>\n",
              "      <td>739.809554</td>\n",
              "      <td>5511.986444</td>\n",
              "      <td>2.556779e+05</td>\n",
              "      <td>13698.4344</td>\n",
              "      <td>0.0000</td>\n",
              "      <td>2.693763e+05</td>\n",
              "      <td>337.229594</td>\n",
              "      <td>5511.986444</td>\n",
              "      <td>337.229594</td>\n",
              "      <td>0.167719</td>\n",
              "    </tr>\n",
              "    <tr>\n",
              "      <th>1</th>\n",
              "      <td>1</td>\n",
              "      <td>27.895000</td>\n",
              "      <td>75.931667</td>\n",
              "      <td>518.283333</td>\n",
              "      <td>1.383575</td>\n",
              "      <td>3980.56</td>\n",
              "      <td>256324.5263</td>\n",
              "      <td>13708.3632</td>\n",
              "      <td>0.0000</td>\n",
              "      <td>19231.52200</td>\n",
              "      <td>...</td>\n",
              "      <td>717.083960</td>\n",
              "      <td>11019.390490</td>\n",
              "      <td>5.120024e+05</td>\n",
              "      <td>27406.7976</td>\n",
              "      <td>0.0000</td>\n",
              "      <td>5.394092e+05</td>\n",
              "      <td>339.764559</td>\n",
              "      <td>5507.404046</td>\n",
              "      <td>676.994153</td>\n",
              "      <td>0.181787</td>\n",
              "    </tr>\n",
              "    <tr>\n",
              "      <th>2</th>\n",
              "      <td>2</td>\n",
              "      <td>26.640000</td>\n",
              "      <td>75.680833</td>\n",
              "      <td>537.283333</td>\n",
              "      <td>1.393320</td>\n",
              "      <td>4093.70</td>\n",
              "      <td>255724.2709</td>\n",
              "      <td>13675.2672</td>\n",
              "      <td>0.0000</td>\n",
              "      <td>19068.54300</td>\n",
              "      <td>...</td>\n",
              "      <td>748.607594</td>\n",
              "      <td>16723.224419</td>\n",
              "      <td>7.677267e+05</td>\n",
              "      <td>41082.0648</td>\n",
              "      <td>0.0000</td>\n",
              "      <td>8.088087e+05</td>\n",
              "      <td>342.157583</td>\n",
              "      <td>5703.833928</td>\n",
              "      <td>1019.151736</td>\n",
              "      <td>0.265921</td>\n",
              "    </tr>\n",
              "    <tr>\n",
              "      <th>3</th>\n",
              "      <td>3</td>\n",
              "      <td>26.335833</td>\n",
              "      <td>75.645000</td>\n",
              "      <td>804.716667</td>\n",
              "      <td>1.401997</td>\n",
              "      <td>3980.56</td>\n",
              "      <td>256324.5263</td>\n",
              "      <td>13708.3632</td>\n",
              "      <td>0.0000</td>\n",
              "      <td>19231.52200</td>\n",
              "      <td>...</td>\n",
              "      <td>1128.210641</td>\n",
              "      <td>22303.959022</td>\n",
              "      <td>1.024051e+06</td>\n",
              "      <td>54790.4280</td>\n",
              "      <td>0.0000</td>\n",
              "      <td>1.078842e+06</td>\n",
              "      <td>344.288491</td>\n",
              "      <td>5580.734603</td>\n",
              "      <td>1363.440227</td>\n",
              "      <td>0.423650</td>\n",
              "    </tr>\n",
              "    <tr>\n",
              "      <th>4</th>\n",
              "      <td>4</td>\n",
              "      <td>26.752500</td>\n",
              "      <td>76.239166</td>\n",
              "      <td>541.016667</td>\n",
              "      <td>1.403245</td>\n",
              "      <td>3935.55</td>\n",
              "      <td>255829.4703</td>\n",
              "      <td>13681.8864</td>\n",
              "      <td>0.0000</td>\n",
              "      <td>19231.52200</td>\n",
              "      <td>...</td>\n",
              "      <td>759.178666</td>\n",
              "      <td>27826.497947</td>\n",
              "      <td>1.279881e+06</td>\n",
              "      <td>68472.3144</td>\n",
              "      <td>0.0000</td>\n",
              "      <td>1.348353e+06</td>\n",
              "      <td>340.083323</td>\n",
              "      <td>5522.538925</td>\n",
              "      <td>1703.523550</td>\n",
              "      <td>0.475272</td>\n",
              "    </tr>\n",
              "    <tr>\n",
              "      <th>...</th>\n",
              "      <td>...</td>\n",
              "      <td>...</td>\n",
              "      <td>...</td>\n",
              "      <td>...</td>\n",
              "      <td>...</td>\n",
              "      <td>...</td>\n",
              "      <td>...</td>\n",
              "      <td>...</td>\n",
              "      <td>...</td>\n",
              "      <td>...</td>\n",
              "      <td>...</td>\n",
              "      <td>...</td>\n",
              "      <td>...</td>\n",
              "      <td>...</td>\n",
              "      <td>...</td>\n",
              "      <td>...</td>\n",
              "      <td>...</td>\n",
              "      <td>...</td>\n",
              "      <td>...</td>\n",
              "      <td>...</td>\n",
              "      <td>...</td>\n",
              "    </tr>\n",
              "    <tr>\n",
              "      <th>23</th>\n",
              "      <td>23</td>\n",
              "      <td>26.881667</td>\n",
              "      <td>58.576667</td>\n",
              "      <td>459.025000</td>\n",
              "      <td>1.173069</td>\n",
              "      <td>27895.87</td>\n",
              "      <td>84543.1884</td>\n",
              "      <td>12856.1412</td>\n",
              "      <td>6038.8575</td>\n",
              "      <td>3669.35270</td>\n",
              "      <td>...</td>\n",
              "      <td>538.468087</td>\n",
              "      <td>377879.041229</td>\n",
              "      <td>4.307065e+06</td>\n",
              "      <td>113155.2240</td>\n",
              "      <td>53190.5075</td>\n",
              "      <td>4.473410e+06</td>\n",
              "      <td>1764.448568</td>\n",
              "      <td>32723.785765</td>\n",
              "      <td>19482.110608</td>\n",
              "      <td>64.875499</td>\n",
              "    </tr>\n",
              "    <tr>\n",
              "      <th>24</th>\n",
              "      <td>24</td>\n",
              "      <td>24.530000</td>\n",
              "      <td>59.615833</td>\n",
              "      <td>446.708333</td>\n",
              "      <td>1.190556</td>\n",
              "      <td>3292.69</td>\n",
              "      <td>146626.3049</td>\n",
              "      <td>22339.8000</td>\n",
              "      <td>10503.3825</td>\n",
              "      <td>5786.99725</td>\n",
              "      <td>...</td>\n",
              "      <td>531.831120</td>\n",
              "      <td>381799.171837</td>\n",
              "      <td>4.453691e+06</td>\n",
              "      <td>135495.0240</td>\n",
              "      <td>63693.8900</td>\n",
              "      <td>4.652880e+06</td>\n",
              "      <td>150.010009</td>\n",
              "      <td>3920.130607</td>\n",
              "      <td>19632.120617</td>\n",
              "      <td>74.002614</td>\n",
              "    </tr>\n",
              "    <tr>\n",
              "      <th>25</th>\n",
              "      <td>25</td>\n",
              "      <td>24.466667</td>\n",
              "      <td>60.382500</td>\n",
              "      <td>455.916667</td>\n",
              "      <td>1.191734</td>\n",
              "      <td>2995.68</td>\n",
              "      <td>146617.0226</td>\n",
              "      <td>22319.9424</td>\n",
              "      <td>10495.5500</td>\n",
              "      <td>5886.54195</td>\n",
              "      <td>...</td>\n",
              "      <td>543.331295</td>\n",
              "      <td>385369.224906</td>\n",
              "      <td>4.600308e+06</td>\n",
              "      <td>157814.9664</td>\n",
              "      <td>74189.4400</td>\n",
              "      <td>4.832312e+06</td>\n",
              "      <td>150.158457</td>\n",
              "      <td>3570.053070</td>\n",
              "      <td>19782.279074</td>\n",
              "      <td>76.342275</td>\n",
              "    </tr>\n",
              "    <tr>\n",
              "      <th>26</th>\n",
              "      <td>26</td>\n",
              "      <td>25.591667</td>\n",
              "      <td>60.102500</td>\n",
              "      <td>429.241667</td>\n",
              "      <td>1.172986</td>\n",
              "      <td>2620.28</td>\n",
              "      <td>146632.4931</td>\n",
              "      <td>22266.9888</td>\n",
              "      <td>10473.6190</td>\n",
              "      <td>5782.32210</td>\n",
              "      <td>...</td>\n",
              "      <td>503.494444</td>\n",
              "      <td>388442.776533</td>\n",
              "      <td>4.746940e+06</td>\n",
              "      <td>180081.9552</td>\n",
              "      <td>84663.0590</td>\n",
              "      <td>5.011685e+06</td>\n",
              "      <td>147.796230</td>\n",
              "      <td>3073.551626</td>\n",
              "      <td>19930.075304</td>\n",
              "      <td>82.621245</td>\n",
              "    </tr>\n",
              "    <tr>\n",
              "      <th>27</th>\n",
              "      <td>27</td>\n",
              "      <td>28.517119</td>\n",
              "      <td>59.338333</td>\n",
              "      <td>406.608333</td>\n",
              "      <td>1.154674</td>\n",
              "      <td>2669.12</td>\n",
              "      <td>146722.2220</td>\n",
              "      <td>22253.7504</td>\n",
              "      <td>10462.6535</td>\n",
              "      <td>5828.88550</td>\n",
              "      <td>...</td>\n",
              "      <td>469.499896</td>\n",
              "      <td>391524.738853</td>\n",
              "      <td>4.893663e+06</td>\n",
              "      <td>202335.7056</td>\n",
              "      <td>95125.7125</td>\n",
              "      <td>5.191124e+06</td>\n",
              "      <td>141.776594</td>\n",
              "      <td>3081.962320</td>\n",
              "      <td>20071.851898</td>\n",
              "      <td>86.591508</td>\n",
              "    </tr>\n",
              "  </tbody>\n",
              "</table>\n",
              "<p>784 rows × 29 columns</p>\n",
              "</div>\n",
              "      <button class=\"colab-df-convert\" onclick=\"convertToInteractive('df-d57d81a8-d15d-4b0d-8081-93fb14cd75f7')\"\n",
              "              title=\"Convert this dataframe to an interactive table.\"\n",
              "              style=\"display:none;\">\n",
              "        \n",
              "  <svg xmlns=\"http://www.w3.org/2000/svg\" height=\"24px\"viewBox=\"0 0 24 24\"\n",
              "       width=\"24px\">\n",
              "    <path d=\"M0 0h24v24H0V0z\" fill=\"none\"/>\n",
              "    <path d=\"M18.56 5.44l.94 2.06.94-2.06 2.06-.94-2.06-.94-.94-2.06-.94 2.06-2.06.94zm-11 1L8.5 8.5l.94-2.06 2.06-.94-2.06-.94L8.5 2.5l-.94 2.06-2.06.94zm10 10l.94 2.06.94-2.06 2.06-.94-2.06-.94-.94-2.06-.94 2.06-2.06.94z\"/><path d=\"M17.41 7.96l-1.37-1.37c-.4-.4-.92-.59-1.43-.59-.52 0-1.04.2-1.43.59L10.3 9.45l-7.72 7.72c-.78.78-.78 2.05 0 2.83L4 21.41c.39.39.9.59 1.41.59.51 0 1.02-.2 1.41-.59l7.78-7.78 2.81-2.81c.8-.78.8-2.07 0-2.86zM5.41 20L4 18.59l7.72-7.72 1.47 1.35L5.41 20z\"/>\n",
              "  </svg>\n",
              "      </button>\n",
              "      \n",
              "  <style>\n",
              "    .colab-df-container {\n",
              "      display:flex;\n",
              "      flex-wrap:wrap;\n",
              "      gap: 12px;\n",
              "    }\n",
              "\n",
              "    .colab-df-convert {\n",
              "      background-color: #E8F0FE;\n",
              "      border: none;\n",
              "      border-radius: 50%;\n",
              "      cursor: pointer;\n",
              "      display: none;\n",
              "      fill: #1967D2;\n",
              "      height: 32px;\n",
              "      padding: 0 0 0 0;\n",
              "      width: 32px;\n",
              "    }\n",
              "\n",
              "    .colab-df-convert:hover {\n",
              "      background-color: #E2EBFA;\n",
              "      box-shadow: 0px 1px 2px rgba(60, 64, 67, 0.3), 0px 1px 3px 1px rgba(60, 64, 67, 0.15);\n",
              "      fill: #174EA6;\n",
              "    }\n",
              "\n",
              "    [theme=dark] .colab-df-convert {\n",
              "      background-color: #3B4455;\n",
              "      fill: #D2E3FC;\n",
              "    }\n",
              "\n",
              "    [theme=dark] .colab-df-convert:hover {\n",
              "      background-color: #434B5C;\n",
              "      box-shadow: 0px 1px 3px 1px rgba(0, 0, 0, 0.15);\n",
              "      filter: drop-shadow(0px 1px 2px rgba(0, 0, 0, 0.3));\n",
              "      fill: #FFFFFF;\n",
              "    }\n",
              "  </style>\n",
              "\n",
              "      <script>\n",
              "        const buttonEl =\n",
              "          document.querySelector('#df-d57d81a8-d15d-4b0d-8081-93fb14cd75f7 button.colab-df-convert');\n",
              "        buttonEl.style.display =\n",
              "          google.colab.kernel.accessAllowed ? 'block' : 'none';\n",
              "\n",
              "        async function convertToInteractive(key) {\n",
              "          const element = document.querySelector('#df-d57d81a8-d15d-4b0d-8081-93fb14cd75f7');\n",
              "          const dataTable =\n",
              "            await google.colab.kernel.invokeFunction('convertToInteractive',\n",
              "                                                     [key], {});\n",
              "          if (!dataTable) return;\n",
              "\n",
              "          const docLinkHtml = 'Like what you see? Visit the ' +\n",
              "            '<a target=\"_blank\" href=https://colab.research.google.com/notebooks/data_table.ipynb>data table notebook</a>'\n",
              "            + ' to learn more about interactive tables.';\n",
              "          element.innerHTML = '';\n",
              "          dataTable['output_type'] = 'display_data';\n",
              "          await google.colab.output.renderOutput(dataTable, element);\n",
              "          const docLink = document.createElement('div');\n",
              "          docLink.innerHTML = docLinkHtml;\n",
              "          element.appendChild(docLink);\n",
              "        }\n",
              "      </script>\n",
              "    </div>\n",
              "  </div>\n",
              "  "
            ]
          },
          "metadata": {},
          "execution_count": 10
        }
      ]
    },
    {
      "cell_type": "markdown",
      "source": [
        "###추가 변수 생성 \n",
        "- ec_분무량_누적*DAT\n",
        "- 내부습도관측치*일간누적분무량*DAT\n",
        "- co2관측치*DAT\n",
        "- 습도_누적*DAT\n",
        "- 비료_누적*DAT"
      ],
      "metadata": {
        "id": "umLYGWJO8uti"
      }
    },
    {
      "cell_type": "code",
      "source": [
        "def make_col(df):\n",
        "  df['ec_분무량_누적*DAT'] = df['ec_분무량_누적']*df['DAT']\n",
        "  df['내부습도관측치*일간누적분무량*DAT'] = df['내부습도관측치']*df['일간누적분무량']*df['DAT']\n",
        "  df['co2관측치*DAT'] =df['co2관측치']*df['DAT']\n",
        "  df['습도_누적*DAT']= df['습도_누적']*df['DAT']\n",
        "  df['비료_누적*DAT'] = df['비료_누적']*df['DAT']\n",
        "\n",
        "  return df"
      ],
      "metadata": {
        "id": "2CsRO6cJcsyf"
      },
      "execution_count": 11,
      "outputs": []
    },
    {
      "cell_type": "code",
      "source": [
        "train = make_col(train)"
      ],
      "metadata": {
        "id": "1uaABoyEyfr3"
      },
      "execution_count": 12,
      "outputs": []
    },
    {
      "cell_type": "markdown",
      "source": [
        "## test셋 생성하기\n"
      ],
      "metadata": {
        "id": "DHtWPFvX87YR"
      }
    },
    {
      "cell_type": "code",
      "source": [
        "test_list = []\n",
        "col_list = []\n",
        "\n",
        "for case in tqdm(range(1,6)):\n",
        "  if case <10 :\n",
        "    case = '0' +str(case)\n",
        "\n",
        "  df_case = pd.read_csv(f'/content/drive/MyDrive/2022_상추재배/test_input/TEST_{case}.csv')\n",
        "  df_case = tem_def(df_case) # 실내 일교차 열 추가 \n",
        "\n",
        "  group = new_col(df_case)\n",
        "  df_target = pd.read_csv(f'/content/drive/MyDrive/2022_상추재배/test_target/TEST_{case}.csv')\n",
        "  group = group.reset_index()\n",
        "\n",
        "  group = group.sort_values(by='DAT')\n",
        "\n",
        "  if case =='01':\n",
        "    col_list = group.columns\n",
        "  else:\n",
        "    group.columns = col_list\n",
        "\n",
        "  group['target'] = list(df_target['predicted_weight_g'])    \n",
        "\n",
        "  test_list.append(group)"
      ],
      "metadata": {
        "colab": {
          "base_uri": "https://localhost:8080/"
        },
        "id": "kZe-4-oE6ji4",
        "outputId": "69cfec85-e491-409e-807c-383cb868def1"
      },
      "execution_count": 13,
      "outputs": [
        {
          "output_type": "stream",
          "name": "stderr",
          "text": [
            "\r  0%|          | 0/5 [00:00<?, ?it/s]/usr/local/lib/python3.8/dist-packages/pandas/core/indexing.py:1732: SettingWithCopyWarning: \n",
            "A value is trying to be set on a copy of a slice from a DataFrame\n",
            "\n",
            "See the caveats in the documentation: https://pandas.pydata.org/pandas-docs/stable/user_guide/indexing.html#returning-a-view-versus-a-copy\n",
            "  self._setitem_single_block(indexer, value, name)\n",
            " 20%|██        | 1/5 [00:01<00:04,  1.03s/it]/usr/local/lib/python3.8/dist-packages/pandas/core/indexing.py:1732: SettingWithCopyWarning: \n",
            "A value is trying to be set on a copy of a slice from a DataFrame\n",
            "\n",
            "See the caveats in the documentation: https://pandas.pydata.org/pandas-docs/stable/user_guide/indexing.html#returning-a-view-versus-a-copy\n",
            "  self._setitem_single_block(indexer, value, name)\n",
            " 40%|████      | 2/5 [00:01<00:02,  1.36it/s]/usr/local/lib/python3.8/dist-packages/pandas/core/indexing.py:1732: SettingWithCopyWarning: \n",
            "A value is trying to be set on a copy of a slice from a DataFrame\n",
            "\n",
            "See the caveats in the documentation: https://pandas.pydata.org/pandas-docs/stable/user_guide/indexing.html#returning-a-view-versus-a-copy\n",
            "  self._setitem_single_block(indexer, value, name)\n",
            " 60%|██████    | 3/5 [00:02<00:01,  1.57it/s]/usr/local/lib/python3.8/dist-packages/pandas/core/indexing.py:1732: SettingWithCopyWarning: \n",
            "A value is trying to be set on a copy of a slice from a DataFrame\n",
            "\n",
            "See the caveats in the documentation: https://pandas.pydata.org/pandas-docs/stable/user_guide/indexing.html#returning-a-view-versus-a-copy\n",
            "  self._setitem_single_block(indexer, value, name)\n",
            " 80%|████████  | 4/5 [00:02<00:00,  1.74it/s]/usr/local/lib/python3.8/dist-packages/pandas/core/indexing.py:1732: SettingWithCopyWarning: \n",
            "A value is trying to be set on a copy of a slice from a DataFrame\n",
            "\n",
            "See the caveats in the documentation: https://pandas.pydata.org/pandas-docs/stable/user_guide/indexing.html#returning-a-view-versus-a-copy\n",
            "  self._setitem_single_block(indexer, value, name)\n",
            "100%|██████████| 5/5 [00:03<00:00,  1.66it/s]\n"
          ]
        }
      ]
    },
    {
      "cell_type": "code",
      "source": [
        "test = get_data(test_list) # test 데이터 생성"
      ],
      "metadata": {
        "id": "8P2lMc8l6lSU"
      },
      "execution_count": 14,
      "outputs": []
    },
    {
      "cell_type": "code",
      "source": [
        "test = make_col(test)"
      ],
      "metadata": {
        "id": "MOzK51WD6m1l"
      },
      "execution_count": 15,
      "outputs": []
    },
    {
      "cell_type": "code",
      "source": [
        "train.columns"
      ],
      "metadata": {
        "colab": {
          "base_uri": "https://localhost:8080/"
        },
        "id": "xdzDN9t_zfPP",
        "outputId": "e052d101-87b4-48e0-cdef-b7a1afa24923"
      },
      "execution_count": 16,
      "outputs": [
        {
          "output_type": "execute_result",
          "data": {
            "text/plain": [
              "Index(['DAT', '내부온도관측치', '내부습도관측치', 'co2관측치', 'ec관측치', '일간누적분무량', '일간누적백색광량',\n",
              "       '일간누적적색광량', '일간누적청색광량', '시간당총광량', '일간누적총광량', '실내 일교차', '습도_온도_CO2',\n",
              "       '비료', '적산온도', '습도_누적', 'co2_누적', 'ec_누적', '광량_누적', 'co2_ec', '비료_누적',\n",
              "       '총누적백색광량', '총누적적색광량', '총누적청색광량', '총누적총광량', 'ec_시간당분무량', 'ec_일간누적분무량',\n",
              "       'ec_분무량_누적', 'target', 'ec_분무량_누적*DAT', '내부습도관측치*일간누적분무량*DAT',\n",
              "       'co2관측치*DAT', '습도_누적*DAT', '비료_누적*DAT'],\n",
              "      dtype='object')"
            ]
          },
          "metadata": {},
          "execution_count": 16
        }
      ]
    },
    {
      "cell_type": "markdown",
      "source": [
        "## 실내 일교차, DAT feature drop"
      ],
      "metadata": {
        "id": "k0ysUyHt9CDw"
      }
    },
    {
      "cell_type": "code",
      "source": [
        "train.drop(['실내 일교차'], axis=1, inplace=True)\n",
        "test.drop(['실내 일교차'], axis=1, inplace=True)"
      ],
      "metadata": {
        "id": "X2JgAnzlKYr0"
      },
      "execution_count": 17,
      "outputs": []
    },
    {
      "cell_type": "code",
      "source": [
        "y_train = np.log1p(train['target'])\n",
        "X = train.drop(['target', 'DAT'],axis=1)\n",
        "X_test = test.drop(['target', 'DAT'],axis=1)\n",
        "X_col = X.columns"
      ],
      "metadata": {
        "id": "O83XsFDD6nwz"
      },
      "execution_count": 18,
      "outputs": []
    },
    {
      "cell_type": "code",
      "source": [
        "print(len(X.columns))\n",
        "sorted(X.columns)"
      ],
      "metadata": {
        "colab": {
          "base_uri": "https://localhost:8080/"
        },
        "id": "BwZpen1T0MG7",
        "outputId": "c874b3f4-8ee0-4357-d320-76b9b3a2e34d"
      },
      "execution_count": 19,
      "outputs": [
        {
          "output_type": "stream",
          "name": "stdout",
          "text": [
            "31\n"
          ]
        },
        {
          "output_type": "execute_result",
          "data": {
            "text/plain": [
              "['co2_ec',\n",
              " 'co2_누적',\n",
              " 'co2관측치',\n",
              " 'co2관측치*DAT',\n",
              " 'ec_누적',\n",
              " 'ec_분무량_누적',\n",
              " 'ec_분무량_누적*DAT',\n",
              " 'ec_시간당분무량',\n",
              " 'ec_일간누적분무량',\n",
              " 'ec관측치',\n",
              " '광량_누적',\n",
              " '내부습도관측치',\n",
              " '내부습도관측치*일간누적분무량*DAT',\n",
              " '내부온도관측치',\n",
              " '비료',\n",
              " '비료_누적',\n",
              " '비료_누적*DAT',\n",
              " '습도_누적',\n",
              " '습도_누적*DAT',\n",
              " '습도_온도_CO2',\n",
              " '시간당총광량',\n",
              " '일간누적백색광량',\n",
              " '일간누적분무량',\n",
              " '일간누적적색광량',\n",
              " '일간누적청색광량',\n",
              " '일간누적총광량',\n",
              " '적산온도',\n",
              " '총누적백색광량',\n",
              " '총누적적색광량',\n",
              " '총누적청색광량',\n",
              " '총누적총광량']"
            ]
          },
          "metadata": {},
          "execution_count": 19
        }
      ]
    },
    {
      "cell_type": "markdown",
      "source": [
        "# 모델링\n",
        "- 단일 XGBRegressor 이용\n",
        "- gridsearch 이용해 튜닝한 hyperparameter 활용"
      ],
      "metadata": {
        "id": "tnCqQ1Bo9IrS"
      }
    },
    {
      "cell_type": "code",
      "source": [
        "import xgboost as xgb\n",
        "from sklearn.model_selection import ShuffleSplit\n",
        "from sklearn.model_selection import GridSearchCV\n",
        "from sklearn.preprocessing import StandardScaler\n",
        "from sklearn import linear_model"
      ],
      "metadata": {
        "id": "Q7vbwvBa72n8"
      },
      "execution_count": 20,
      "outputs": []
    },
    {
      "cell_type": "code",
      "source": [
        "xgbr=xgb.XGBRegressor()"
      ],
      "metadata": {
        "id": "6AfDPdtm1e_L"
      },
      "execution_count": 21,
      "outputs": []
    },
    {
      "cell_type": "code",
      "source": [
        "param_grid={\n",
        "    'learning_rate': np.arange(0.001,1.1,0.05),\n",
        "    'max_depth':[3,4,5,8,11,13,15],\n",
        "    'eta':[0.01, 0.05, 0.1],\n",
        "    'objective' :['reg:squarederror'],\n",
        "     'eval_metric':['rmse'],\n",
        "}"
      ],
      "metadata": {
        "id": "CUCynbfV1fch"
      },
      "execution_count": 22,
      "outputs": []
    },
    {
      "cell_type": "code",
      "source": [
        "ss = ShuffleSplit(test_size=0.2)"
      ],
      "metadata": {
        "id": "ar-FiXJJ1gSG"
      },
      "execution_count": 23,
      "outputs": []
    },
    {
      "cell_type": "code",
      "source": [
        "grid_xgbr=GridSearchCV(xgbr, return_train_score=True,\n",
        "                       param_grid=param_grid,\n",
        "                       cv=ss,\n",
        "                       verbose=0,\n",
        "                       scoring='neg_root_mean_squared_error',\n",
        "                       n_jobs=-1)"
      ],
      "metadata": {
        "id": "SidjrD9Z1hVu"
      },
      "execution_count": 24,
      "outputs": []
    },
    {
      "cell_type": "code",
      "source": [
        "scaler = StandardScaler()\n",
        "\n",
        "scaler.fit(X)\n",
        "scaled_X_train  = scaler.transform(X)\n",
        "scaled_X_train  = pd.DataFrame(scaled_X_train , columns=X_col)\n",
        "scaled_X_test  = scaler.transform(X_test)\n",
        "scaled_X_test  = pd.DataFrame(scaled_X_test , columns=X_col)"
      ],
      "metadata": {
        "id": "a94DZ8iw8Dzr"
      },
      "execution_count": 25,
      "outputs": []
    },
    {
      "cell_type": "code",
      "source": [
        "grid_xgbr.fit(scaled_X_train,y_train)"
      ],
      "metadata": {
        "id": "vlnsGjL68Fnj",
        "colab": {
          "base_uri": "https://localhost:8080/"
        },
        "outputId": "0c0bb0bb-d17d-4d8a-f636-4ea61edcbc94"
      },
      "execution_count": 26,
      "outputs": [
        {
          "output_type": "execute_result",
          "data": {
            "text/plain": [
              "GridSearchCV(cv=ShuffleSplit(n_splits=10, random_state=None, test_size=0.2, train_size=None),\n",
              "             estimator=XGBRegressor(), n_jobs=-1,\n",
              "             param_grid={'eta': [0.01, 0.05, 0.1], 'eval_metric': ['rmse'],\n",
              "                         'learning_rate': array([1.000e-03, 5.100e-02, 1.010e-01, 1.510e-01, 2.010e-01, 2.510e-01,\n",
              "       3.010e-01, 3.510e-01, 4.010e-01, 4.510e-01, 5.010e-01, 5.510e-01,\n",
              "       6.010e-01, 6.510e-01, 7.010e-01, 7.510e-01, 8.010e-01, 8.510e-01,\n",
              "       9.010e-01, 9.510e-01, 1.001e+00, 1.051e+00]),\n",
              "                         'max_depth': [3, 4, 5, 8, 11, 13, 15],\n",
              "                         'objective': ['reg:squarederror']},\n",
              "             return_train_score=True, scoring='neg_root_mean_squared_error')"
            ]
          },
          "metadata": {},
          "execution_count": 26
        }
      ]
    },
    {
      "cell_type": "code",
      "source": [
        "scores_df = pd.DataFrame(grid_xgbr.cv_results_)"
      ],
      "metadata": {
        "id": "HpdOcyYI1lzF"
      },
      "execution_count": 27,
      "outputs": []
    },
    {
      "cell_type": "code",
      "source": [
        "mse = -1*scores_df['mean_test_score'] \n",
        "scores_df['rmse_test_score'] = np.sqrt(mse)\n",
        "mse_train = -1*scores_df['mean_train_score'] \n",
        "scores_df['rmse_train_score'] = np.sqrt(mse_train)"
      ],
      "metadata": {
        "id": "WDdnPkqy1nR9"
      },
      "execution_count": 28,
      "outputs": []
    },
    {
      "cell_type": "code",
      "source": [
        "scores_df[['rmse_train_score', 'rmse_test_score', 'rank_test_score', 'params']].sort_values(by='rank_test_score')"
      ],
      "metadata": {
        "colab": {
          "base_uri": "https://localhost:8080/",
          "height": 423
        },
        "id": "zkyALUOC1nrh",
        "outputId": "ccad4d22-3ceb-4197-cc70-7155642ef61f"
      },
      "execution_count": 29,
      "outputs": [
        {
          "output_type": "execute_result",
          "data": {
            "text/plain": [
              "     rmse_train_score  rmse_test_score  rank_test_score  \\\n",
              "16           0.198696         0.449079                1   \n",
              "170          0.198696         0.449079                1   \n",
              "324          0.198696         0.449079                1   \n",
              "190          0.172735         0.451175                4   \n",
              "344          0.172735         0.451175                4   \n",
              "..                ...              ...              ...   \n",
              "309          1.560204         1.565807              457   \n",
              "1            1.560204         1.565807              457   \n",
              "308          1.560626         1.566133              460   \n",
              "154          1.560626         1.566133              460   \n",
              "0            1.560626         1.566133              460   \n",
              "\n",
              "                                                params  \n",
              "16   {'eta': 0.01, 'eval_metric': 'rmse', 'learning...  \n",
              "170  {'eta': 0.05, 'eval_metric': 'rmse', 'learning...  \n",
              "324  {'eta': 0.1, 'eval_metric': 'rmse', 'learning_...  \n",
              "190  {'eta': 0.05, 'eval_metric': 'rmse', 'learning...  \n",
              "344  {'eta': 0.1, 'eval_metric': 'rmse', 'learning_...  \n",
              "..                                                 ...  \n",
              "309  {'eta': 0.1, 'eval_metric': 'rmse', 'learning_...  \n",
              "1    {'eta': 0.01, 'eval_metric': 'rmse', 'learning...  \n",
              "308  {'eta': 0.1, 'eval_metric': 'rmse', 'learning_...  \n",
              "154  {'eta': 0.05, 'eval_metric': 'rmse', 'learning...  \n",
              "0    {'eta': 0.01, 'eval_metric': 'rmse', 'learning...  \n",
              "\n",
              "[462 rows x 4 columns]"
            ],
            "text/html": [
              "\n",
              "  <div id=\"df-b0d7d73e-b228-4756-bf9b-6a176c6d90d2\">\n",
              "    <div class=\"colab-df-container\">\n",
              "      <div>\n",
              "<style scoped>\n",
              "    .dataframe tbody tr th:only-of-type {\n",
              "        vertical-align: middle;\n",
              "    }\n",
              "\n",
              "    .dataframe tbody tr th {\n",
              "        vertical-align: top;\n",
              "    }\n",
              "\n",
              "    .dataframe thead th {\n",
              "        text-align: right;\n",
              "    }\n",
              "</style>\n",
              "<table border=\"1\" class=\"dataframe\">\n",
              "  <thead>\n",
              "    <tr style=\"text-align: right;\">\n",
              "      <th></th>\n",
              "      <th>rmse_train_score</th>\n",
              "      <th>rmse_test_score</th>\n",
              "      <th>rank_test_score</th>\n",
              "      <th>params</th>\n",
              "    </tr>\n",
              "  </thead>\n",
              "  <tbody>\n",
              "    <tr>\n",
              "      <th>16</th>\n",
              "      <td>0.198696</td>\n",
              "      <td>0.449079</td>\n",
              "      <td>1</td>\n",
              "      <td>{'eta': 0.01, 'eval_metric': 'rmse', 'learning...</td>\n",
              "    </tr>\n",
              "    <tr>\n",
              "      <th>170</th>\n",
              "      <td>0.198696</td>\n",
              "      <td>0.449079</td>\n",
              "      <td>1</td>\n",
              "      <td>{'eta': 0.05, 'eval_metric': 'rmse', 'learning...</td>\n",
              "    </tr>\n",
              "    <tr>\n",
              "      <th>324</th>\n",
              "      <td>0.198696</td>\n",
              "      <td>0.449079</td>\n",
              "      <td>1</td>\n",
              "      <td>{'eta': 0.1, 'eval_metric': 'rmse', 'learning_...</td>\n",
              "    </tr>\n",
              "    <tr>\n",
              "      <th>190</th>\n",
              "      <td>0.172735</td>\n",
              "      <td>0.451175</td>\n",
              "      <td>4</td>\n",
              "      <td>{'eta': 0.05, 'eval_metric': 'rmse', 'learning...</td>\n",
              "    </tr>\n",
              "    <tr>\n",
              "      <th>344</th>\n",
              "      <td>0.172735</td>\n",
              "      <td>0.451175</td>\n",
              "      <td>4</td>\n",
              "      <td>{'eta': 0.1, 'eval_metric': 'rmse', 'learning_...</td>\n",
              "    </tr>\n",
              "    <tr>\n",
              "      <th>...</th>\n",
              "      <td>...</td>\n",
              "      <td>...</td>\n",
              "      <td>...</td>\n",
              "      <td>...</td>\n",
              "    </tr>\n",
              "    <tr>\n",
              "      <th>309</th>\n",
              "      <td>1.560204</td>\n",
              "      <td>1.565807</td>\n",
              "      <td>457</td>\n",
              "      <td>{'eta': 0.1, 'eval_metric': 'rmse', 'learning_...</td>\n",
              "    </tr>\n",
              "    <tr>\n",
              "      <th>1</th>\n",
              "      <td>1.560204</td>\n",
              "      <td>1.565807</td>\n",
              "      <td>457</td>\n",
              "      <td>{'eta': 0.01, 'eval_metric': 'rmse', 'learning...</td>\n",
              "    </tr>\n",
              "    <tr>\n",
              "      <th>308</th>\n",
              "      <td>1.560626</td>\n",
              "      <td>1.566133</td>\n",
              "      <td>460</td>\n",
              "      <td>{'eta': 0.1, 'eval_metric': 'rmse', 'learning_...</td>\n",
              "    </tr>\n",
              "    <tr>\n",
              "      <th>154</th>\n",
              "      <td>1.560626</td>\n",
              "      <td>1.566133</td>\n",
              "      <td>460</td>\n",
              "      <td>{'eta': 0.05, 'eval_metric': 'rmse', 'learning...</td>\n",
              "    </tr>\n",
              "    <tr>\n",
              "      <th>0</th>\n",
              "      <td>1.560626</td>\n",
              "      <td>1.566133</td>\n",
              "      <td>460</td>\n",
              "      <td>{'eta': 0.01, 'eval_metric': 'rmse', 'learning...</td>\n",
              "    </tr>\n",
              "  </tbody>\n",
              "</table>\n",
              "<p>462 rows × 4 columns</p>\n",
              "</div>\n",
              "      <button class=\"colab-df-convert\" onclick=\"convertToInteractive('df-b0d7d73e-b228-4756-bf9b-6a176c6d90d2')\"\n",
              "              title=\"Convert this dataframe to an interactive table.\"\n",
              "              style=\"display:none;\">\n",
              "        \n",
              "  <svg xmlns=\"http://www.w3.org/2000/svg\" height=\"24px\"viewBox=\"0 0 24 24\"\n",
              "       width=\"24px\">\n",
              "    <path d=\"M0 0h24v24H0V0z\" fill=\"none\"/>\n",
              "    <path d=\"M18.56 5.44l.94 2.06.94-2.06 2.06-.94-2.06-.94-.94-2.06-.94 2.06-2.06.94zm-11 1L8.5 8.5l.94-2.06 2.06-.94-2.06-.94L8.5 2.5l-.94 2.06-2.06.94zm10 10l.94 2.06.94-2.06 2.06-.94-2.06-.94-.94-2.06-.94 2.06-2.06.94z\"/><path d=\"M17.41 7.96l-1.37-1.37c-.4-.4-.92-.59-1.43-.59-.52 0-1.04.2-1.43.59L10.3 9.45l-7.72 7.72c-.78.78-.78 2.05 0 2.83L4 21.41c.39.39.9.59 1.41.59.51 0 1.02-.2 1.41-.59l7.78-7.78 2.81-2.81c.8-.78.8-2.07 0-2.86zM5.41 20L4 18.59l7.72-7.72 1.47 1.35L5.41 20z\"/>\n",
              "  </svg>\n",
              "      </button>\n",
              "      \n",
              "  <style>\n",
              "    .colab-df-container {\n",
              "      display:flex;\n",
              "      flex-wrap:wrap;\n",
              "      gap: 12px;\n",
              "    }\n",
              "\n",
              "    .colab-df-convert {\n",
              "      background-color: #E8F0FE;\n",
              "      border: none;\n",
              "      border-radius: 50%;\n",
              "      cursor: pointer;\n",
              "      display: none;\n",
              "      fill: #1967D2;\n",
              "      height: 32px;\n",
              "      padding: 0 0 0 0;\n",
              "      width: 32px;\n",
              "    }\n",
              "\n",
              "    .colab-df-convert:hover {\n",
              "      background-color: #E2EBFA;\n",
              "      box-shadow: 0px 1px 2px rgba(60, 64, 67, 0.3), 0px 1px 3px 1px rgba(60, 64, 67, 0.15);\n",
              "      fill: #174EA6;\n",
              "    }\n",
              "\n",
              "    [theme=dark] .colab-df-convert {\n",
              "      background-color: #3B4455;\n",
              "      fill: #D2E3FC;\n",
              "    }\n",
              "\n",
              "    [theme=dark] .colab-df-convert:hover {\n",
              "      background-color: #434B5C;\n",
              "      box-shadow: 0px 1px 3px 1px rgba(0, 0, 0, 0.15);\n",
              "      filter: drop-shadow(0px 1px 2px rgba(0, 0, 0, 0.3));\n",
              "      fill: #FFFFFF;\n",
              "    }\n",
              "  </style>\n",
              "\n",
              "      <script>\n",
              "        const buttonEl =\n",
              "          document.querySelector('#df-b0d7d73e-b228-4756-bf9b-6a176c6d90d2 button.colab-df-convert');\n",
              "        buttonEl.style.display =\n",
              "          google.colab.kernel.accessAllowed ? 'block' : 'none';\n",
              "\n",
              "        async function convertToInteractive(key) {\n",
              "          const element = document.querySelector('#df-b0d7d73e-b228-4756-bf9b-6a176c6d90d2');\n",
              "          const dataTable =\n",
              "            await google.colab.kernel.invokeFunction('convertToInteractive',\n",
              "                                                     [key], {});\n",
              "          if (!dataTable) return;\n",
              "\n",
              "          const docLinkHtml = 'Like what you see? Visit the ' +\n",
              "            '<a target=\"_blank\" href=https://colab.research.google.com/notebooks/data_table.ipynb>data table notebook</a>'\n",
              "            + ' to learn more about interactive tables.';\n",
              "          element.innerHTML = '';\n",
              "          dataTable['output_type'] = 'display_data';\n",
              "          await google.colab.output.renderOutput(dataTable, element);\n",
              "          const docLink = document.createElement('div');\n",
              "          docLink.innerHTML = docLinkHtml;\n",
              "          element.appendChild(docLink);\n",
              "        }\n",
              "      </script>\n",
              "    </div>\n",
              "  </div>\n",
              "  "
            ]
          },
          "metadata": {},
          "execution_count": 29
        }
      ]
    },
    {
      "cell_type": "code",
      "source": [
        "grid_xgbr.best_params_"
      ],
      "metadata": {
        "colab": {
          "base_uri": "https://localhost:8080/"
        },
        "id": "BO_yiWQJ2NjK",
        "outputId": "3b875d92-2465-43bc-9a49-653780d8d0a8"
      },
      "execution_count": 30,
      "outputs": [
        {
          "output_type": "execute_result",
          "data": {
            "text/plain": [
              "{'eta': 0.01,\n",
              " 'eval_metric': 'rmse',\n",
              " 'learning_rate': 0.101,\n",
              " 'max_depth': 5,\n",
              " 'objective': 'reg:squarederror'}"
            ]
          },
          "metadata": {},
          "execution_count": 30
        }
      ]
    },
    {
      "cell_type": "code",
      "source": [
        "xgb_best = grid_xgbr.best_estimator_"
      ],
      "metadata": {
        "id": "ewlzYCi346Nz"
      },
      "execution_count": 34,
      "outputs": []
    },
    {
      "cell_type": "code",
      "source": [
        "result = []\n",
        "xg_reg = xgb_best\n",
        "xg_reg.fit(scaled_X_train, y_train)\n",
        "pred = xg_reg.predict(scaled_X_test)\n",
        "for k in pred:\n",
        "    result = np.hstack([result, k])\n",
        "result"
      ],
      "metadata": {
        "colab": {
          "base_uri": "https://localhost:8080/"
        },
        "id": "l62BNpiB8lnP",
        "outputId": "c0cccddc-94d3-4b10-e2cd-c07b9acd1259"
      },
      "execution_count": 35,
      "outputs": [
        {
          "output_type": "execute_result",
          "data": {
            "text/plain": [
              "array([0.45342892, 0.75764823, 0.93702739, 1.11975408, 1.47113824,\n",
              "       1.69830739, 2.02136445, 1.96132874, 2.13423705, 2.32360125,\n",
              "       2.47681689, 2.66761947, 3.20821261, 2.97258401, 2.89619708,\n",
              "       3.25415874, 3.22249436, 3.37373543, 3.57727385, 3.62103558,\n",
              "       4.01856518, 4.16228676, 4.32198429, 4.35609245, 4.52806377,\n",
              "       4.5286684 , 4.55703545, 4.66004992, 0.22960222, 0.62424719,\n",
              "       0.89327848, 1.11352301, 1.14214468, 1.37233019, 1.30404139,\n",
              "       1.38598907, 1.48893642, 1.57889485, 1.84822369, 2.06820178,\n",
              "       2.33068776, 2.41709661, 2.51461768, 2.78213739, 2.81544924,\n",
              "       2.85660386, 3.05471635, 3.12705851, 3.04485941, 3.3061111 ,\n",
              "       3.41653824, 3.81922817, 3.57925749, 4.01231766, 4.0911665 ,\n",
              "       4.06650734, 0.80575097, 0.85849285, 0.9737348 , 1.03050113,\n",
              "       1.10511124, 1.30543733, 1.42272437, 1.40510678, 1.66446662,\n",
              "       1.69565785, 1.83679891, 1.90042591, 2.09964252, 2.07499123,\n",
              "       2.34336662, 2.30084848, 2.35478568, 2.3048439 , 2.4114747 ,\n",
              "       2.32356071, 2.40691423, 2.61035085, 2.62079644, 2.77264833,\n",
              "       2.8958993 , 2.74196625, 2.96117902, 3.17534471, 0.21784806,\n",
              "       0.41322339, 0.45859459, 0.72271389, 1.22192907, 1.37304878,\n",
              "       1.54857898, 1.69011879, 1.8444401 , 2.11957622, 2.52904725,\n",
              "       2.62939572, 2.8419559 , 3.03191113, 3.14032984, 3.24517274,\n",
              "       3.38644075, 3.41302967, 3.50006032, 3.69406462, 3.93960238,\n",
              "       4.23652077, 4.22761297, 4.49063396, 4.48189878, 4.57978058,\n",
              "       4.67137289, 4.67874575, 0.25916141, 0.38590711, 0.52909154,\n",
              "       0.49497315, 0.6652264 , 0.89457595, 1.13045573, 1.12845206,\n",
              "       1.41434979, 1.73739815, 1.87468004, 2.10746145, 2.17084074,\n",
              "       2.37974834, 2.64837074, 2.79981709, 2.95580196, 2.85868526,\n",
              "       3.078511  , 3.10284257, 3.2945025 , 3.56931686, 3.75270224,\n",
              "       3.87128425, 4.11460304, 4.23134518, 4.29364777, 4.36282253])"
            ]
          },
          "metadata": {},
          "execution_count": 35
        }
      ]
    },
    {
      "cell_type": "code",
      "source": [
        "expm1_result = np.expm1(result)\n",
        "expm1_result = pd.DataFrame(columns=['target'],data=expm1_result)"
      ],
      "metadata": {
        "id": "3QMMoCJv87tn"
      },
      "execution_count": 36,
      "outputs": []
    },
    {
      "cell_type": "markdown",
      "source": [
        "# 모델 저장"
      ],
      "metadata": {
        "id": "0-bg_jycdCBm"
      }
    },
    {
      "cell_type": "code",
      "source": [
        "import pickle\n",
        "with open ('xg_reg.pkl','wb') as f:\n",
        "    pickle.dump(xg_reg,f)"
      ],
      "metadata": {
        "id": "lSLM95kadD91"
      },
      "execution_count": null,
      "outputs": []
    },
    {
      "cell_type": "markdown",
      "source": [
        "# 추출"
      ],
      "metadata": {
        "id": "8IBPQw-g9MbG"
      }
    },
    {
      "cell_type": "code",
      "source": [
        "base_dir = '/content/drive/MyDrive/2022_상추재배'\n",
        "os.chdir(base_dir)"
      ],
      "metadata": {
        "id": "JZ2lXERB-CfI"
      },
      "execution_count": null,
      "outputs": []
    },
    {
      "cell_type": "code",
      "source": [
        "total_result = []\n",
        "for case in tqdm(range(1, 6)):\n",
        "    if case < 10:\n",
        "        case = '0'+str(case)\n",
        "    particular_target = pd.read_csv(f'/content/drive/MyDrive/2022_상추재배/test_target/TEST_{case}.csv')\n",
        "    particular_target['predicted_weight_g'] = list(expm1_result['target'][:len(particular_target)].values)\n",
        "    expm1_result = expm1_result.drop([i for i in range(len(particular_target))])\n",
        "    \n",
        "    expm1_result = expm1_result.reset_index(drop=True)\n",
        "    total_result.append(particular_target)\n",
        "for i in range(len(total_result)):\n",
        "    total_result[i].to_csv(f'TEST_0{i+1}.csv', index=False)\n",
        "file_ls = ['TEST_01.csv','TEST_02.csv','TEST_03.csv','TEST_04.csv','TEST_05.csv']\n",
        "\n",
        "with zipfile.ZipFile(\"final_submit.zip\", 'w') as my_zip:\n",
        "    for i in file_ls:\n",
        "        my_zip.write(i)\n",
        "    my_zip.close()"
      ],
      "metadata": {
        "colab": {
          "base_uri": "https://localhost:8080/"
        },
        "id": "7YQo5dbA9KMw",
        "outputId": "ba7d89ab-b800-4630-f04f-a800fa793659"
      },
      "execution_count": 37,
      "outputs": [
        {
          "output_type": "stream",
          "name": "stderr",
          "text": [
            "100%|██████████| 5/5 [00:00<00:00, 188.22it/s]\n"
          ]
        }
      ]
    },
    {
      "cell_type": "code",
      "source": [],
      "metadata": {
        "id": "qSwpw7TIza-V"
      },
      "execution_count": null,
      "outputs": []
    }
  ]
}